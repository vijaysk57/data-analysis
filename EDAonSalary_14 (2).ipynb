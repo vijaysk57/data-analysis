{
 "cells": [
  {
   "cell_type": "markdown",
   "id": "a628ee81-6c51-4be6-88d1-e6801ea25662",
   "metadata": {},
   "source": [
    "importing libraries"
   ]
  },
  {
   "cell_type": "code",
   "execution_count": 23,
   "id": "87cfae12-4532-49cb-ab15-14065aee1cf0",
   "metadata": {},
   "outputs": [],
   "source": [
    "import pandas as pd\n",
    "import numpy as np\n",
    "import matplotlib.pyplot as plt\n",
    "import seaborn as sns"
   ]
  },
  {
   "cell_type": "markdown",
   "id": "e8bc6886-20b0-4136-8ca9-237b1ec44688",
   "metadata": {},
   "source": [
    "Loading and Viewing data"
   ]
  },
  {
   "cell_type": "code",
   "execution_count": 24,
   "id": "550d20d5-a3d1-4edf-9132-5bf0c473884d",
   "metadata": {},
   "outputs": [
    {
     "data": {
      "text/html": [
       "<div>\n",
       "<style scoped>\n",
       "    .dataframe tbody tr th:only-of-type {\n",
       "        vertical-align: middle;\n",
       "    }\n",
       "\n",
       "    .dataframe tbody tr th {\n",
       "        vertical-align: top;\n",
       "    }\n",
       "\n",
       "    .dataframe thead th {\n",
       "        text-align: right;\n",
       "    }\n",
       "</style>\n",
       "<table border=\"1\" class=\"dataframe\">\n",
       "  <thead>\n",
       "    <tr style=\"text-align: right;\">\n",
       "      <th></th>\n",
       "      <th>Age</th>\n",
       "      <th>Gender</th>\n",
       "      <th>Education Level</th>\n",
       "      <th>Job Title</th>\n",
       "      <th>Years of Experience</th>\n",
       "      <th>Salary</th>\n",
       "    </tr>\n",
       "  </thead>\n",
       "  <tbody>\n",
       "    <tr>\n",
       "      <th>0</th>\n",
       "      <td>32.0</td>\n",
       "      <td>Male</td>\n",
       "      <td>Bachelor's</td>\n",
       "      <td>Software Engineer</td>\n",
       "      <td>5.0</td>\n",
       "      <td>90000.0</td>\n",
       "    </tr>\n",
       "    <tr>\n",
       "      <th>1</th>\n",
       "      <td>28.0</td>\n",
       "      <td>Female</td>\n",
       "      <td>Master's</td>\n",
       "      <td>Data Analyst</td>\n",
       "      <td>3.0</td>\n",
       "      <td>65000.0</td>\n",
       "    </tr>\n",
       "    <tr>\n",
       "      <th>2</th>\n",
       "      <td>45.0</td>\n",
       "      <td>Male</td>\n",
       "      <td>PhD</td>\n",
       "      <td>Senior Manager</td>\n",
       "      <td>15.0</td>\n",
       "      <td>150000.0</td>\n",
       "    </tr>\n",
       "    <tr>\n",
       "      <th>3</th>\n",
       "      <td>36.0</td>\n",
       "      <td>Female</td>\n",
       "      <td>Bachelor's</td>\n",
       "      <td>Sales Associate</td>\n",
       "      <td>7.0</td>\n",
       "      <td>60000.0</td>\n",
       "    </tr>\n",
       "    <tr>\n",
       "      <th>4</th>\n",
       "      <td>36.0</td>\n",
       "      <td>Female</td>\n",
       "      <td>Bachelor's</td>\n",
       "      <td>Sales Associate</td>\n",
       "      <td>7.0</td>\n",
       "      <td>60000.0</td>\n",
       "    </tr>\n",
       "  </tbody>\n",
       "</table>\n",
       "</div>"
      ],
      "text/plain": [
       "    Age  Gender Education Level          Job Title  Years of Experience  \\\n",
       "0  32.0    Male      Bachelor's  Software Engineer                  5.0   \n",
       "1  28.0  Female        Master's       Data Analyst                  3.0   \n",
       "2  45.0    Male             PhD     Senior Manager                 15.0   \n",
       "3  36.0  Female      Bachelor's    Sales Associate                  7.0   \n",
       "4  36.0  Female      Bachelor's    Sales Associate                  7.0   \n",
       "\n",
       "     Salary  \n",
       "0   90000.0  \n",
       "1   65000.0  \n",
       "2  150000.0  \n",
       "3   60000.0  \n",
       "4   60000.0  "
      ]
     },
     "execution_count": 24,
     "metadata": {},
     "output_type": "execute_result"
    }
   ],
   "source": [
    "sal_df1 = pd.read_csv(\"C:\\my files\\Salary_EDA.csv\")\n",
    "sal_df1.head()"
   ]
  },
  {
   "cell_type": "code",
   "execution_count": 25,
   "id": "d9e334c4-2723-4a70-9e0b-d14a366569af",
   "metadata": {},
   "outputs": [
    {
     "name": "stdout",
     "output_type": "stream",
     "text": [
      "<class 'pandas.core.frame.DataFrame'>\n",
      "RangeIndex: 375 entries, 0 to 374\n",
      "Data columns (total 6 columns):\n",
      " #   Column               Non-Null Count  Dtype  \n",
      "---  ------               --------------  -----  \n",
      " 0   Age                  373 non-null    float64\n",
      " 1   Gender               371 non-null    object \n",
      " 2   Education Level      372 non-null    object \n",
      " 3   Job Title            370 non-null    object \n",
      " 4   Years of Experience  373 non-null    float64\n",
      " 5   Salary               372 non-null    float64\n",
      "dtypes: float64(3), object(3)\n",
      "memory usage: 17.7+ KB\n"
     ]
    }
   ],
   "source": [
    "sal_df1.info()"
   ]
  },
  {
   "cell_type": "markdown",
   "id": "d122437e-f347-4fec-978a-c7c61b999cfc",
   "metadata": {},
   "source": [
    "conclusions:\n",
    "* age,year of exp,salary have float data type\n",
    "*  gender,education,jab title have object datatype\n",
    "* Null - values exist because no same non-null values\n",
    "* we have 6 features and 375 rows"
   ]
  },
  {
   "cell_type": "markdown",
   "id": "3f522392-2b38-4aaa-82d7-96186a0ec749",
   "metadata": {},
   "source": [
    "null values"
   ]
  },
  {
   "cell_type": "code",
   "execution_count": 26,
   "id": "65db45e4-3302-4215-9692-9c80bc2896d8",
   "metadata": {},
   "outputs": [
    {
     "data": {
      "text/plain": [
       "Age                    2\n",
       "Gender                 4\n",
       "Education Level        3\n",
       "Job Title              5\n",
       "Years of Experience    2\n",
       "Salary                 3\n",
       "dtype: int64"
      ]
     },
     "execution_count": 26,
     "metadata": {},
     "output_type": "execute_result"
    }
   ],
   "source": [
    "sal_df1.isnull().sum()"
   ]
  },
  {
   "cell_type": "code",
   "execution_count": 27,
   "id": "49b661d9-4528-4ac5-8d8b-c42151bf82e8",
   "metadata": {},
   "outputs": [
    {
     "data": {
      "text/plain": [
       "Age                    0\n",
       "Gender                 0\n",
       "Education Level        0\n",
       "Job Title              0\n",
       "Years of Experience    0\n",
       "Salary                 0\n",
       "dtype: int64"
      ]
     },
     "execution_count": 27,
     "metadata": {},
     "output_type": "execute_result"
    }
   ],
   "source": [
    "sal_df1.dropna(inplace = True)\n",
    "sal_df1.isnull().sum()"
   ]
  },
  {
   "cell_type": "markdown",
   "id": "aa094d5b-5b37-4c4f-869e-bc81583eb0d9",
   "metadata": {},
   "source": [
    "conclusions: all the null value are dropped. now the features have non nulls"
   ]
  },
  {
   "cell_type": "markdown",
   "id": "ac72cf58-e3a8-4df2-aabc-c276a3eaccad",
   "metadata": {},
   "source": [
    "summary statistics"
   ]
  },
  {
   "cell_type": "code",
   "execution_count": 28,
   "id": "a1e2d60f-ff47-445b-814b-bd9aefeb7d47",
   "metadata": {},
   "outputs": [
    {
     "data": {
      "text/html": [
       "<div>\n",
       "<style scoped>\n",
       "    .dataframe tbody tr th:only-of-type {\n",
       "        vertical-align: middle;\n",
       "    }\n",
       "\n",
       "    .dataframe tbody tr th {\n",
       "        vertical-align: top;\n",
       "    }\n",
       "\n",
       "    .dataframe thead th {\n",
       "        text-align: right;\n",
       "    }\n",
       "</style>\n",
       "<table border=\"1\" class=\"dataframe\">\n",
       "  <thead>\n",
       "    <tr style=\"text-align: right;\">\n",
       "      <th></th>\n",
       "      <th>Age</th>\n",
       "      <th>Gender</th>\n",
       "      <th>Education Level</th>\n",
       "      <th>Job Title</th>\n",
       "      <th>Years of Experience</th>\n",
       "      <th>Salary</th>\n",
       "    </tr>\n",
       "  </thead>\n",
       "  <tbody>\n",
       "    <tr>\n",
       "      <th>count</th>\n",
       "      <td>366.000000</td>\n",
       "      <td>366</td>\n",
       "      <td>366</td>\n",
       "      <td>366</td>\n",
       "      <td>366.000000</td>\n",
       "      <td>366.000000</td>\n",
       "    </tr>\n",
       "    <tr>\n",
       "      <th>unique</th>\n",
       "      <td>NaN</td>\n",
       "      <td>2</td>\n",
       "      <td>3</td>\n",
       "      <td>169</td>\n",
       "      <td>NaN</td>\n",
       "      <td>NaN</td>\n",
       "    </tr>\n",
       "    <tr>\n",
       "      <th>top</th>\n",
       "      <td>NaN</td>\n",
       "      <td>Male</td>\n",
       "      <td>Bachelor's</td>\n",
       "      <td>Director of Marketing</td>\n",
       "      <td>NaN</td>\n",
       "      <td>NaN</td>\n",
       "    </tr>\n",
       "    <tr>\n",
       "      <th>freq</th>\n",
       "      <td>NaN</td>\n",
       "      <td>189</td>\n",
       "      <td>220</td>\n",
       "      <td>12</td>\n",
       "      <td>NaN</td>\n",
       "      <td>NaN</td>\n",
       "    </tr>\n",
       "    <tr>\n",
       "      <th>mean</th>\n",
       "      <td>37.459016</td>\n",
       "      <td>NaN</td>\n",
       "      <td>NaN</td>\n",
       "      <td>NaN</td>\n",
       "      <td>10.045082</td>\n",
       "      <td>100492.759563</td>\n",
       "    </tr>\n",
       "    <tr>\n",
       "      <th>std</th>\n",
       "      <td>6.962303</td>\n",
       "      <td>NaN</td>\n",
       "      <td>NaN</td>\n",
       "      <td>NaN</td>\n",
       "      <td>6.517102</td>\n",
       "      <td>48013.732434</td>\n",
       "    </tr>\n",
       "    <tr>\n",
       "      <th>min</th>\n",
       "      <td>23.000000</td>\n",
       "      <td>NaN</td>\n",
       "      <td>NaN</td>\n",
       "      <td>NaN</td>\n",
       "      <td>0.000000</td>\n",
       "      <td>350.000000</td>\n",
       "    </tr>\n",
       "    <tr>\n",
       "      <th>25%</th>\n",
       "      <td>32.000000</td>\n",
       "      <td>NaN</td>\n",
       "      <td>NaN</td>\n",
       "      <td>NaN</td>\n",
       "      <td>4.000000</td>\n",
       "      <td>56250.000000</td>\n",
       "    </tr>\n",
       "    <tr>\n",
       "      <th>50%</th>\n",
       "      <td>36.000000</td>\n",
       "      <td>NaN</td>\n",
       "      <td>NaN</td>\n",
       "      <td>NaN</td>\n",
       "      <td>9.000000</td>\n",
       "      <td>95000.000000</td>\n",
       "    </tr>\n",
       "    <tr>\n",
       "      <th>75%</th>\n",
       "      <td>44.000000</td>\n",
       "      <td>NaN</td>\n",
       "      <td>NaN</td>\n",
       "      <td>NaN</td>\n",
       "      <td>15.000000</td>\n",
       "      <td>140000.000000</td>\n",
       "    </tr>\n",
       "    <tr>\n",
       "      <th>max</th>\n",
       "      <td>53.000000</td>\n",
       "      <td>NaN</td>\n",
       "      <td>NaN</td>\n",
       "      <td>NaN</td>\n",
       "      <td>25.000000</td>\n",
       "      <td>250000.000000</td>\n",
       "    </tr>\n",
       "  </tbody>\n",
       "</table>\n",
       "</div>"
      ],
      "text/plain": [
       "               Age Gender Education Level              Job Title  \\\n",
       "count   366.000000    366             366                    366   \n",
       "unique         NaN      2               3                    169   \n",
       "top            NaN   Male      Bachelor's  Director of Marketing   \n",
       "freq           NaN    189             220                     12   \n",
       "mean     37.459016    NaN             NaN                    NaN   \n",
       "std       6.962303    NaN             NaN                    NaN   \n",
       "min      23.000000    NaN             NaN                    NaN   \n",
       "25%      32.000000    NaN             NaN                    NaN   \n",
       "50%      36.000000    NaN             NaN                    NaN   \n",
       "75%      44.000000    NaN             NaN                    NaN   \n",
       "max      53.000000    NaN             NaN                    NaN   \n",
       "\n",
       "        Years of Experience         Salary  \n",
       "count            366.000000     366.000000  \n",
       "unique                  NaN            NaN  \n",
       "top                     NaN            NaN  \n",
       "freq                    NaN            NaN  \n",
       "mean              10.045082  100492.759563  \n",
       "std                6.517102   48013.732434  \n",
       "min                0.000000     350.000000  \n",
       "25%                4.000000   56250.000000  \n",
       "50%                9.000000   95000.000000  \n",
       "75%               15.000000  140000.000000  \n",
       "max               25.000000  250000.000000  "
      ]
     },
     "execution_count": 28,
     "metadata": {},
     "output_type": "execute_result"
    }
   ],
   "source": [
    "sal_df1.describe(include = \"all\")"
   ]
  },
  {
   "cell_type": "markdown",
   "id": "c019c6da-cc3c-4efb-a7ca-bd038ff210d9",
   "metadata": {},
   "source": [
    "conclusion:\n",
    "* age:\n",
    "* min age is 23,max age is 53,average age is 37.4\n",
    "* majority of age falls btw 32 ad 44\n",
    "* gender:\n",
    "* there are 2 unique values male, female\n",
    "* among 366,189 entries are male, 177 entries are female. so we can say male is slightly dominating\n",
    "* education level:\n",
    "* most of the data concentrates on bachelor's(dominating)\n",
    "* job title:\n",
    "* among 366, 12 times director of marketing is epeated. others are repeated less than 12 times which means no job title is dominating in the dataset\n",
    "* year of exp:\n",
    "* min exp is 0,max exp is 25,average exp is 10 years\n",
    "* majority of exp falls btw 4 ad 15 \n",
    "* salary:\n",
    "* min sal is 350,max sal is 250000,average sal is 100492 years\n",
    "* majority of sal falls btw 56250 ad 140000\n",
    "* there might be oyliers,min = 350, avg = 1 lakh, there is lot of difference(error,part-time)\n"
   ]
  },
  {
   "cell_type": "markdown",
   "id": "80b3ff0e-66b0-4e9c-8d9a-61d266567afa",
   "metadata": {},
   "source": [
    "visualization"
   ]
  },
  {
   "cell_type": "markdown",
   "id": "23fd68dd-5b2d-4b25-8a86-3666e9d3a334",
   "metadata": {},
   "source": [
    "1.analyze age distribution[histogram]"
   ]
  },
  {
   "cell_type": "code",
   "execution_count": 29,
   "id": "f574b80a-2c92-46e8-97e0-c9ae70d31d49",
   "metadata": {},
   "outputs": [
    {
     "name": "stderr",
     "output_type": "stream",
     "text": [
      "C:\\ProgramData\\anaconda3\\Lib\\site-packages\\seaborn\\_oldcore.py:1119: FutureWarning: use_inf_as_na option is deprecated and will be removed in a future version. Convert inf values to NaN before operating instead.\n",
      "  with pd.option_context('mode.use_inf_as_na', True):\n"
     ]
    },
    {
     "data": {
      "image/png": "[encoded data removed]",
      "text/plain": [
       "<Figure size 600x500 with 1 Axes>"
      ]
     },
     "metadata": {},
     "output_type": "display_data"
    }
   ],
   "source": [
    "plt.figure(figsize = (6,5))\n",
    "sns.histplot(sal_df1[\"Age\"],kde = True, bins =10)\n",
    "plt.title(\"Distribution of age\")\n",
    "plt.show()"
   ]
  },
  {
   "cell_type": "markdown",
   "id": "b3f8e843-7e46-472f-b770-e67108703db0",
   "metadata": {},
   "source": [
    "1) average age is 34\n",
    "2) after 45 its positive skew\n",
    "3) no outliers\n",
    "4) majarity of the people are having 30 age"
   ]
  },
  {
   "cell_type": "markdown",
   "id": "8f439f9c-79f4-4d4f-8659-931b470b5e72",
   "metadata": {},
   "source": [
    "2.analysis the distrubtuion of salary using histogram "
   ]
  },
  {
   "cell_type": "code",
   "execution_count": 30,
   "id": "22fe573a-f2d7-427f-8c2f-b7c6abe7e7a1",
   "metadata": {},
   "outputs": [
    {
     "name": "stderr",
     "output_type": "stream",
     "text": [
      "C:\\ProgramData\\anaconda3\\Lib\\site-packages\\seaborn\\_oldcore.py:1119: FutureWarning: use_inf_as_na option is deprecated and will be removed in a future version. Convert inf values to NaN before operating instead.\n",
      "  with pd.option_context('mode.use_inf_as_na', True):\n"
     ]
    },
    {
     "data": {
      "image/png": "[encoded data removed]",
      "text/plain": [
       "<Figure size 600x500 with 1 Axes>"
      ]
     },
     "metadata": {},
     "output_type": "display_data"
    }
   ],
   "source": [
    "plt.figure(figsize = (6,5))\n",
    "sns.histplot(sal_df1[\"Salary\"],kde = True, bins =10)\n",
    "plt.title(\"Distribution of salary\")\n",
    "plt.show()"
   ]
  },
  {
   "cell_type": "markdown",
   "id": "3cf5d0a4-10d8-446f-847e-d0aeaa365277",
   "metadata": {},
   "source": [
    "1) postivi skew is from 15 lakh \n",
    "2) majarity people get 500000 sal\n",
    "3) every less people sal is less then 50000\n",
    "4) no outliers"
   ]
  },
  {
   "cell_type": "markdown",
   "id": "746ef49c-fd55-430e-abec-3407286a158f",
   "metadata": {},
   "source": [
    "3.analyis sal distrubtion using boxplot"
   ]
  },
  {
   "cell_type": "code",
   "execution_count": 31,
   "id": "ec53a1b2-593b-4f8c-b615-de7f2b7d5c87",
   "metadata": {},
   "outputs": [
    {
     "data": {
      "image/png": "[encoded data removed]",
      "text/plain": [
       "<Figure size 600x500 with 1 Axes>"
      ]
     },
     "metadata": {},
     "output_type": "display_data"
    }
   ],
   "source": [
    "plt.figure(figsize = (6,5))\n",
    "sns.boxplot(x=sal_df1[\"Salary\"])\n",
    "plt.title(\"Salary Distribution\")\n",
    "plt.show()"
   ]
  },
  {
   "cell_type": "code",
   "execution_count": 11,
   "id": "bb3deb64-ac8d-4d31-bf14-7036267e17b8",
   "metadata": {},
   "outputs": [
    {
     "ename": "SyntaxError",
     "evalue": "unmatched ')' (4055739623.py, line 1)",
     "output_type": "error",
     "traceback": [
      "\u001b[1;36m  Cell \u001b[1;32mIn[11], line 1\u001b[1;36m\u001b[0m\n\u001b[1;33m    1) no outliers\u001b[0m\n\u001b[1;37m     ^\u001b[0m\n\u001b[1;31mSyntaxError\u001b[0m\u001b[1;31m:\u001b[0m unmatched ')'\n"
     ]
    }
   ],
   "source": [
    "1) no outliers\n",
    "2) average sal is around 100000"
   ]
  },
  {
   "cell_type": "markdown",
   "id": "80445c1c-594d-4bed-80d3-8aa772191648",
   "metadata": {},
   "source": [
    "find the correation matrix"
   ]
  },
  {
   "cell_type": "code",
   "execution_count": 32,
   "id": "511d7b42-0313-4d06-8092-9153026b90a2",
   "metadata": {},
   "outputs": [
    {
     "data": {
      "text/html": [
       "<div>\n",
       "<style scoped>\n",
       "    .dataframe tbody tr th:only-of-type {\n",
       "        vertical-align: middle;\n",
       "    }\n",
       "\n",
       "    .dataframe tbody tr th {\n",
       "        vertical-align: top;\n",
       "    }\n",
       "\n",
       "    .dataframe thead th {\n",
       "        text-align: right;\n",
       "    }\n",
       "</style>\n",
       "<table border=\"1\" class=\"dataframe\">\n",
       "  <thead>\n",
       "    <tr style=\"text-align: right;\">\n",
       "      <th></th>\n",
       "      <th>Age</th>\n",
       "      <th>Years of Experience</th>\n",
       "      <th>Salary</th>\n",
       "    </tr>\n",
       "  </thead>\n",
       "  <tbody>\n",
       "    <tr>\n",
       "      <th>0</th>\n",
       "      <td>32.0</td>\n",
       "      <td>5.0</td>\n",
       "      <td>90000.0</td>\n",
       "    </tr>\n",
       "    <tr>\n",
       "      <th>1</th>\n",
       "      <td>28.0</td>\n",
       "      <td>3.0</td>\n",
       "      <td>65000.0</td>\n",
       "    </tr>\n",
       "    <tr>\n",
       "      <th>2</th>\n",
       "      <td>45.0</td>\n",
       "      <td>15.0</td>\n",
       "      <td>150000.0</td>\n",
       "    </tr>\n",
       "    <tr>\n",
       "      <th>3</th>\n",
       "      <td>36.0</td>\n",
       "      <td>7.0</td>\n",
       "      <td>60000.0</td>\n",
       "    </tr>\n",
       "    <tr>\n",
       "      <th>4</th>\n",
       "      <td>36.0</td>\n",
       "      <td>7.0</td>\n",
       "      <td>60000.0</td>\n",
       "    </tr>\n",
       "  </tbody>\n",
       "</table>\n",
       "</div>"
      ],
      "text/plain": [
       "    Age  Years of Experience    Salary\n",
       "0  32.0                  5.0   90000.0\n",
       "1  28.0                  3.0   65000.0\n",
       "2  45.0                 15.0  150000.0\n",
       "3  36.0                  7.0   60000.0\n",
       "4  36.0                  7.0   60000.0"
      ]
     },
     "execution_count": 32,
     "metadata": {},
     "output_type": "execute_result"
    }
   ],
   "source": [
    "sal= sal_df1.select_dtypes(include = [\"number\"])\n",
    "sal.head()"
   ]
  },
  {
   "cell_type": "code",
   "execution_count": 33,
   "id": "9f2ca481-7ebf-4da7-8717-bfb817405383",
   "metadata": {},
   "outputs": [
    {
     "data": {
      "image/png": "[encoded data removed]",
      "text/plain": [
       "<Figure size 600x500 with 2 Axes>"
      ]
     },
     "metadata": {},
     "output_type": "display_data"
    }
   ],
   "source": [
    "plt.figure(figsize = (6,5))\n",
    "sns.heatmap(sal.corr(),cmap = \"cividis\",annot = True)\n",
    "plt.title(\"correation matrix \")\n",
    "plt.show()"
   ]
  },
  {
   "cell_type": "markdown",
   "id": "030e1945-2566-40e5-b804-2a79a7e9b09b",
   "metadata": {},
   "source": [
    "1) it shows the correlation btw age sal and exp\n",
    "2) there is a postivie correlation btw age and exp\n",
    "3) the correlation btw age and sal is less"
   ]
  },
  {
   "cell_type": "markdown",
   "id": "6d27e8bf-3b82-4b1b-9c0c-08fee080f217",
   "metadata": {},
   "source": [
    "draw a count plot btw for the feature gender\n",
    "draw a count plot on eduction level"
   ]
  },
  {
   "cell_type": "code",
   "execution_count": 34,
   "id": "ff20a449-13a1-4e07-91e1-f0e9498a5523",
   "metadata": {},
   "outputs": [
    {
     "data": {
      "text/plain": [
       "Text(0.5, 1.0, 'count of exp')"
      ]
     },
     "execution_count": 34,
     "metadata": {},
     "output_type": "execute_result"
    },
    {
     "data": {
      "image/png": "[encoded data removed]",
      "text/plain": [
       "<Figure size 600x500 with 1 Axes>"
      ]
     },
     "metadata": {},
     "output_type": "display_data"
    }
   ],
   "source": [
    "plt.figure(figsize = (6,5))\n",
    "sns.countplot(x=sal_df1[\"Years of Experience\"],palette = \"pastel\")\n",
    "plt.title(\"count of exp\")\n"
   ]
  },
  {
   "cell_type": "code",
   "execution_count": 35,
   "id": "035067a0-e45c-4f4d-969e-3b9930264800",
   "metadata": {},
   "outputs": [
    {
     "data": {
      "image/png": "[encoded data removed]",
      "text/plain": [
       "<Figure size 600x500 with 1 Axes>"
      ]
     },
     "metadata": {},
     "output_type": "display_data"
    }
   ],
   "source": [
    "plt.figure(figsize = (6,5))\n",
    "sns.countplot(x=sal_df1[\"Gender\"],palette = \"pastel\")\n",
    "plt.title(\"count of Gender\")\n",
    "plt.show()"
   ]
  },
  {
   "cell_type": "code",
   "execution_count": null,
   "id": "ddf7ec7b-1484-4979-955b-771943f5daab",
   "metadata": {},
   "outputs": [],
   "source": []
  },
  {
   "cell_type": "markdown",
   "id": "97e6a050-807a-4c62-8a44-6f9e0ec16248",
   "metadata": {},
   "source": [
    "1) group eduction level anf find average salary\n",
    "2) filter data set in which gender is female and eduction level is masters and avg sal on that data set\n",
    "3) filter data setin which expre is more then 20 years and find the average salary on that data set"
   ]
  },
  {
   "cell_type": "code",
   "execution_count": 36,
   "id": "a3daf1ab-fc9a-4f72-9284-96a0d7750dad",
   "metadata": {},
   "outputs": [
    {
     "data": {
      "text/plain": [
       "Education Level\n",
       "Bachelor's     74683.409091\n",
       "Master's      129473.684211\n",
       "PhD           157843.137255\n",
       "Name: Salary, dtype: float64"
      ]
     },
     "execution_count": 36,
     "metadata": {},
     "output_type": "execute_result"
    }
   ],
   "source": [
    "sal_df1.groupby('Education Level')['Salary'].mean()\n"
   ]
  },
  {
   "cell_type": "code",
   "execution_count": 18,
   "id": "22b35e79-f322-432a-9e05-16dbc0660b53",
   "metadata": {},
   "outputs": [
    {
     "data": {
      "text/plain": [
       "Age                        49.535714\n",
       "Years of Experience        22.000000\n",
       "Salary                 175892.857143\n",
       "dtype: float64"
      ]
     },
     "execution_count": 18,
     "metadata": {},
     "output_type": "execute_result"
    }
   ],
   "source": [
    "fil_exp_20more = sal_df[sal_df[\"Years of Experience\"]>20].mean()\n",
    "fil_exp_20more.head()\n"
   ]
  },
  {
   "cell_type": "code",
   "execution_count": null,
   "id": "8ef5cc11-a253-45d0-973f-6dd321008e31",
   "metadata": {},
   "outputs": [],
   "source": []
  }
 ],
 "metadata": {
  "kernelspec": {
   "display_name": "Python 3 (ipykernel)",
   "language": "python",
   "name": "python3"
  },
  "language_info": {
   "codemirror_mode": {
    "name": "ipython",
    "version": 3
   },
   "file_extension": ".py",
   "mimetype": "text/x-python",
   "name": "python",
   "nbconvert_exporter": "python",
   "pygments_lexer": "ipython3",
   "version": "3.11.7"
  }
 },
 "nbformat": 4,
 "nbformat_minor": 5
}
